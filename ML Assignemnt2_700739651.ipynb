{
 "cells": [
  {
   "cell_type": "code",
   "execution_count": 1,
   "id": "bcbbddf9",
   "metadata": {},
   "outputs": [
    {
     "name": "stdout",
     "output_type": "stream",
     "text": [
      "*\r\n",
      "**\r\n",
      "***\r\n",
      "****\r\n",
      "*****\r\n",
      "****\r\n",
      "***\r\n",
      "**\r\n",
      "*\r\n",
      "\r\n"
     ]
    }
   ],
   "source": [
    "for i in range(0,5):\n",
    "    for j in range(0,i+1):\n",
    "        print(\"*\",end=\"\")\n",
    "    print(\"\\r\")\n",
    "for i in range(5,0,-1):\n",
    "    for j in range(0,i-1):\n",
    "        print(\"*\",end=\"\")\n",
    "    print(\"\\r\")"
   ]
  },
  {
   "cell_type": "code",
   "execution_count": 2,
   "id": "65969a08",
   "metadata": {},
   "outputs": [
    {
     "name": "stdout",
     "output_type": "stream",
     "text": [
      "20\n",
      "40\n",
      "60\n",
      "80\n",
      "100\n"
     ]
    }
   ],
   "source": [
    "my_list = [10, 20, 30, 40, 50, 60, 70, 80, 90, 100]\n",
    "\n",
    "for i in range(len(my_list)):\n",
    "    if(i%2 == 1):\n",
    "        print(my_list[i])"
   ]
  },
  {
   "cell_type": "code",
   "execution_count": 3,
   "id": "16016ceb",
   "metadata": {},
   "outputs": [
    {
     "name": "stdout",
     "output_type": "stream",
     "text": [
      "[23, 'Python', 23.98]\n",
      "[<class 'int'>, <class 'str'>, <class 'float'>]\n"
     ]
    }
   ],
   "source": [
    "a=[23,'Python',23.98]\n",
    "b=[]\n",
    "for i in a:\n",
    "    b.append(type(i))\n",
    "print(a)\n",
    "print(b)"
   ]
  },
  {
   "cell_type": "code",
   "execution_count": 2,
   "id": "0bf5340a",
   "metadata": {},
   "outputs": [
    {
     "name": "stdout",
     "output_type": "stream",
     "text": [
      "Sample List: [1, 2, 3, 3, 3, 3, 4, 5]\n",
      "Unique List: [1, 2, 3, 4, 5]\n"
     ]
    }
   ],
   "source": [
    "a=[1,2,3,3,3,3,4,5]\n",
    "print(\"Sample List:\",a)\n",
    "b=set(a)\n",
    "print(\"Unique List:\",list(b))"
   ]
  },
  {
   "cell_type": "code",
   "execution_count": 5,
   "id": "b906fd7a",
   "metadata": {},
   "outputs": [
    {
     "name": "stdout",
     "output_type": "stream",
     "text": [
      "Enter a string: 'The quick Brow Fox'\n",
      "No. of Upper case characters : 3\n",
      "No. of Lower case Characters : 12\n"
     ]
    }
   ],
   "source": [
    "string = input('Enter a string: ')\n",
    "\n",
    "upper_count = 0\n",
    "lower_count = 0\n",
    "\n",
    "for i in string:\n",
    "    if i.islower():\n",
    "        lower_count += 1\n",
    "    elif i.isupper():\n",
    "        upper_count += 1\n",
    "\n",
    "print('No. of Upper case characters : ' + str(upper_count))\n",
    "print('No. of Lower case Characters : ' + str(lower_count))"
   ]
  },
  {
   "cell_type": "code",
   "execution_count": null,
   "id": "aebeb9cd",
   "metadata": {},
   "outputs": [],
   "source": []
  },
  {
   "cell_type": "code",
   "execution_count": null,
   "id": "adc1df48",
   "metadata": {},
   "outputs": [],
   "source": []
  }
 ],
 "metadata": {
  "kernelspec": {
   "display_name": "Python 3 (ipykernel)",
   "language": "python",
   "name": "python3"
  },
  "language_info": {
   "codemirror_mode": {
    "name": "ipython",
    "version": 3
   },
   "file_extension": ".py",
   "mimetype": "text/x-python",
   "name": "python",
   "nbconvert_exporter": "python",
   "pygments_lexer": "ipython3",
   "version": "3.9.13"
  }
 },
 "nbformat": 4,
 "nbformat_minor": 5
}
