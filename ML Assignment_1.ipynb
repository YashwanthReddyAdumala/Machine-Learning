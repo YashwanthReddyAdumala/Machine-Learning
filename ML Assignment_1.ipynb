{
 "cells": [
  {
   "cell_type": "code",
   "execution_count": 2,
   "id": "2c88dd27",
   "metadata": {},
   "outputs": [
    {
     "name": "stdout",
     "output_type": "stream",
     "text": [
      "ages:  [19, 22, 19, 24, 20, 25, 26, 24, 25, 24]\n",
      "sorted ages:  [19, 19, 20, 22, 24, 24, 24, 25, 25, 26]\n",
      "max:  26\n",
      "min:  19\n",
      "Modified ages:  [19, 19, 20, 22, 24, 24, 24, 25, 25, 26, 19, 26]\n",
      "median of ages:  24.0\n",
      "average of ages:  22.75\n",
      "range of ages:  7\n"
     ]
    }
   ],
   "source": [
    "#Question1\n",
    "\n",
    "from statistics import median\n",
    "import math\n",
    "ages = [19, 22, 19, 24, 20, 25, 26, 24, 25, 24]\n",
    "print(\"ages: \",ages)\n",
    "#sort the list\n",
    "ages.sort()\n",
    "print(\"sorted ages: \",ages)\n",
    "#Find min and max from ages\n",
    "minimum=min(ages)\n",
    "maximum=max(ages)\n",
    "print(\"max: \",maximum)\n",
    "print(\"min: \",minimum)\n",
    "#add min and max again to the list\n",
    "ages.append(minimum)\n",
    "ages.append(maximum)\n",
    "print(\"Modified ages: \",ages)\n",
    "#Find median of ages\n",
    "print(\"median of ages: \",median(ages))\n",
    "#Find average of ages\n",
    "print(\"average of ages: \",sum(ages)/len(ages))\n",
    "#Find range of ages\n",
    "print(\"range of ages: \",maximum-minimum)"
   ]
  },
  {
   "cell_type": "code",
   "execution_count": 11,
   "id": "70eedc27",
   "metadata": {},
   "outputs": [
    {
     "name": "stdout",
     "output_type": "stream",
     "text": [
      "dog dictionary:  {'name': 'Snoofy', 'color': 'Black And Brown', 'breed': 'germanshepherd', 'legs': 'long', 'age': 2}\n",
      "length of student dictionary:  9\n",
      "Value of student skills:  ['communication skills', 'leadership skills']\n",
      "Type of the skills:  <class 'list'>\n",
      "Modified skills:  ['communication skills', 'leadership skills', 'programming skills']\n",
      "keys:  dict_keys(['first_name', 'last_name', 'gender', 'age', 'marital status', 'skills', 'country', 'city', 'address'])\n",
      "Vlaues:  dict_values(['Yashwanth', 'Adumala', 'male', 22, 'single', ['communication skills', 'leadership skills', 'programming skills'], 'India', 'Hyderabad', '122, Sainathpuram, Dr.A.s.Rao nagar, 500062'])\n"
     ]
    }
   ],
   "source": [
    "#Question2\n",
    "#Create empty dictionary dog\n",
    "dog={}\n",
    "#Add name, color, breed, legs, age to the dog dictionary\n",
    "dog[\"name\"]=\"Snoofy\"\n",
    "dog[\"color\"]=\"Black And Brown\"\n",
    "dog[\"breed\"]=\"germanshepherd\"\n",
    "dog[\"legs\"]=\"long\"\n",
    "dog[\"age\"]=2\n",
    "print(\"dog dictionary: \",dog)\n",
    "#Create a student dictionary and add first_name, last_name, gender, age, marital status,\n",
    "#skills, country, city and address as keys for the dictionary\n",
    "student=dict()\n",
    "student={\"first_name\":\"Yashwanth\",\"last_name\":\"Adumala\",\"gender\":\"male\",\"age\":22,\"marital status\":\"single\",\n",
    "         \"skills\":[\"communication skills\",\"leadership skills\"],\"country\":\"India\",\n",
    "         \"city\":\"Hyderabad\",\"address\":\"122, Sainathpuram, Dr.A.s.Rao nagar, 500062\"}\n",
    "#Get the length of the student dictionary\n",
    "print(\"length of student dictionary: \",len(student))\n",
    "#Get the value of skills and check the data type, it should be a list\n",
    "s=student[\"skills\"]\n",
    "print(\"Value of student skills: \",s)\n",
    "print(\"Type of the skills: \",type(s))\n",
    "#Modify the skills values by adding one or two skills\n",
    "s.append(\"programming skills\")\n",
    "print(\"Modified skills: \",student[\"skills\"])\n",
    "#Get the dictionary keys as a list\n",
    "print(\"keys: \",student.keys())\n",
    "print(\"Vlaues: \",student.values())#Get the dictionary values as a list"
   ]
  },
  {
   "cell_type": "code",
   "execution_count": 4,
   "id": "b5bf6d0f",
   "metadata": {},
   "outputs": [
    {
     "name": "stdout",
     "output_type": "stream",
     "text": [
      "brothers tuple is:  ('Niranjan', 'Nithin', 'Dheeraj')\n",
      "sisters tuple is:  ('Varnika', 'Jyothi', 'Swetha')\n",
      "siblings tuple is:  ('Niranjan', 'Nithin', 'Dheeraj', 'Varnika', 'Jyothi', 'Swetha')\n",
      "How many siblings do you have? :-  6\n",
      "family_members tuple:  ('Niranjan', 'Nithin', 'Dheeraj', 'Varnika', 'Jyothi', 'Swetha', 'Ravinder', 'Manga')\n"
     ]
    }
   ],
   "source": [
    "#Question3\n",
    "\n",
    "#Create a tuple containing names of your sisters and your brothers(imaginary siblings are fine)\n",
    "siblings=tuple()\n",
    "brothers=(\"Niranjan\",\"Nithin\",\"Dheeraj\")\n",
    "sisters=(\"Varnika\",\"Jyothi\",\"Swetha\")\n",
    "print(\"brothers tuple is: \",brothers)\n",
    "print(\"sisters tuple is: \",sisters)\n",
    "#Join brothers and sisters tuples and assign it to siblings\n",
    "siblings=brothers+sisters\n",
    "print(\"siblings tuple is: \",siblings)\n",
    "#How many siblings do you have?\n",
    "print(\"How many siblings do you have? :- \",len(siblings))\n",
    "#Modify the siblings tuple and add the name of your father and mother and assign it to\n",
    "#family_members\n",
    "temp=list(siblings)\n",
    "temp.append(\"Ravinder\")\n",
    "temp.append(\"Manga\")\n",
    "family_members=tuple(temp)\n",
    "print(\"family_members tuple: \",family_members)"
   ]
  },
  {
   "cell_type": "code",
   "execution_count": 5,
   "id": "7576496f",
   "metadata": {},
   "outputs": [
    {
     "name": "stdout",
     "output_type": "stream",
     "text": [
      "The length of the set it_companies:  7\n",
      "{'Microsoft', 'Google', 'Facebook', 'Oracle', 'Apple', 'IBM', 'Twitter', 'Amazon'}\n",
      "{'TCS', 'Oracle', 'Wipro', 'Microsoft', 'Google', 'Facebook', 'Accenture', 'Apple', 'IBM', 'Twitter', 'Amazon'}\n",
      "{'Oracle', 'Wipro', 'Microsoft', 'Google', 'Facebook', 'Accenture', 'Apple', 'IBM', 'Twitter', 'Amazon'}\n",
      "'The difference between remove and discard is if the item to be \n",
      "      deleted is not present in the set then discard raises an error where discard method will not raise an error.\n",
      "A union B is:  {19, 20, 22, 24, 25, 26, 27, 28}\n",
      "A intersection B is:  {19, 20, 22, 24, 25, 26}\n",
      "Is A subset of B True\n",
      "Are A and B disjoint sets False\n",
      "Join A with B:  {19, 20, 22, 24, 25, 26, 27, 28}\n",
      "Join B with A:  {19, 20, 22, 24, 25, 26, 27, 28}\n",
      "The symmetric difference between A and B set()\n",
      "set()\n",
      "set()\n",
      "set()\n",
      "ages set:  {19, 22, 24, 25, 26}\n",
      "length of ages list:  8\n",
      "length of ages set:  5\n"
     ]
    }
   ],
   "source": [
    "#Question4\n",
    "it_companies = {'Facebook', 'Google', 'Microsoft', 'Apple', 'IBM', 'Oracle', 'Amazon'}\n",
    "A = {19, 22, 24, 20, 25, 26}\n",
    "B = {19, 22, 20, 25, 26, 24, 28, 27}\n",
    "age = [22, 19, 24, 25, 26, 24, 25, 24]\n",
    "print(\"The length of the set it_companies: \",len(it_companies))   #Find the length of the set it_companies\n",
    "#Add 'Twitter' to it_companies\n",
    "it_companies.add(\"Twitter\") \n",
    "print(it_companies)\n",
    "other={\"TCS\",\"Wipro\",\"Accenture\"}\n",
    "#Insert multiple IT companies at once to the set it_companies\n",
    "it_companies.update(other)\n",
    "print(it_companies)\n",
    "#Remove one of the companies from the set it_companies\n",
    "it_companies.remove(\"TCS\")\n",
    "print(it_companies)\n",
    "#What is the difference between remove and discard\n",
    "print(''''The difference between remove and discard is if the item to be \n",
    "      deleted is not present in the set then discard raises an error where discard method will not raise an error.''')\n",
    "temp=A.union(B)     #Join A and B\n",
    "print(\"A union B is: \",temp)\n",
    "temp=A.intersection(B)     #Find A intersection B\n",
    "print(\"A intersection B is: \",temp)\n",
    "print(\"Is A subset of B\",A.issubset(B))   #Is A subset of B\n",
    "print(\"Are A and B disjoint sets\",A.isdisjoint(B))   #Are A and B disjoint sets\n",
    "A.update(B)   #Join A with B\n",
    "print(\"Join A with B: \",A)\n",
    "B.update(A)   #Join B with A\n",
    "print(\"Join B with A: \",B)\n",
    "print(\"The symmetric difference between A and B\",A.symmetric_difference(B)) #What is the symmetric difference between A and B\n",
    "it_companies.clear(),A.clear(),B.clear()     #Delete the sets completely\n",
    "print(it_companies)\n",
    "print(A)\n",
    "print(B)\n",
    "age_set=set(age)   #Convert the ages to a set and compare the length of the list and the set.\n",
    "print(\"ages set: \",age_set)\n",
    "print(\"length of ages list: \",len(age))\n",
    "print(\"length of ages set: \",len(age_set))"
   ]
  },
  {
   "cell_type": "code",
   "execution_count": 6,
   "id": "b182ebca",
   "metadata": {},
   "outputs": [
    {
     "name": "stdout",
     "output_type": "stream",
     "text": [
      "Enter radius of circle: 30\n",
      "area of circle:  2826.0\n",
      "circumference of circle:  188.4\n"
     ]
    }
   ],
   "source": [
    "#Question5\n",
    "\n",
    "radius=int(input(\"Enter radius of circle: \"))\n",
    "#Calculate the area of a circle and assign the value to a variable name of _area_of_circle_\n",
    "_area_of_circle_=(3.14)*radius*radius\n",
    "print(\"area of circle: \",_area_of_circle_)\n",
    "#Calculate the circumference of a circle and assign the value to a variable name of\n",
    "_circum_of_circle_=(3.14)*radius*2\n",
    "print(\"circumference of circle: \",_circum_of_circle_)"
   ]
  },
  {
   "cell_type": "code",
   "execution_count": 7,
   "id": "34bc6c24",
   "metadata": {},
   "outputs": [
    {
     "name": "stdout",
     "output_type": "stream",
     "text": [
      "Number of unique words in the given sentence:  10\n"
     ]
    }
   ],
   "source": [
    "#Question6\n",
    "\n",
    "text=\"I am a teacher and I love to inspire and teach people\"\n",
    "a=text.split(\" \")\n",
    "print(\"Number of unique words in the given sentence: \",len(set(a)))"
   ]
  },
  {
   "cell_type": "code",
   "execution_count": 8,
   "id": "1e59bd5e",
   "metadata": {},
   "outputs": [
    {
     "name": "stdout",
     "output_type": "stream",
     "text": [
      "Name\t\tAge\tCountry\tCity\n",
      "Asabeneh\t250\tFinland\tHelsinki\n"
     ]
    }
   ],
   "source": [
    "#Question7\n",
    "print(\"Name\\t\\tAge\\tCountry\\tCity\\nAsabeneh\\t250\\tFinland\\tHelsinki\")"
   ]
  },
  {
   "cell_type": "code",
   "execution_count": 9,
   "id": "b695b427",
   "metadata": {},
   "outputs": [
    {
     "name": "stdout",
     "output_type": "stream",
     "text": [
      "The area of a circle with radius 10 is 314.0 meters square\n"
     ]
    }
   ],
   "source": [
    "#Question8\n",
    "#The string formatting method to display the following\n",
    "radius=10\n",
    "area=3.14*radius**2\n",
    "a=\"The area of a circle with radius {0} is {1} meters square\".format(radius,area)\n",
    "print(a)"
   ]
  },
  {
   "cell_type": "code",
   "execution_count": 10,
   "id": "074782e8",
   "metadata": {},
   "outputs": [
    {
     "name": "stdout",
     "output_type": "stream",
     "text": [
      "Enter no of students: 5\n",
      "Enter weights in lbs\n",
      "11 55 88 99 77 \n",
      "Weights in kgs:  [4.95, 24.75, 39.6, 44.550000000000004, 34.65]\n"
     ]
    }
   ],
   "source": [
    "#Question9\n",
    "N=int(input(\"Enter no of students: \"))\n",
    "print(\"Enter weights in lbs\")\n",
    "weights=list(map(int,input().split()))\n",
    "nweights=[]\n",
    "for i in weights:\n",
    "    nweights.append(i*0.45)\n",
    "print(\"Weights in kgs: \",nweights)"
   ]
  },
  {
   "cell_type": "code",
   "execution_count": null,
   "id": "d6863d0e",
   "metadata": {},
   "outputs": [],
   "source": []
  }
 ],
 "metadata": {
  "kernelspec": {
   "display_name": "Python 3 (ipykernel)",
   "language": "python",
   "name": "python3"
  },
  "language_info": {
   "codemirror_mode": {
    "name": "ipython",
    "version": 3
   },
   "file_extension": ".py",
   "mimetype": "text/x-python",
   "name": "python",
   "nbconvert_exporter": "python",
   "pygments_lexer": "ipython3",
   "version": "3.9.13"
  }
 },
 "nbformat": 4,
 "nbformat_minor": 5
}
